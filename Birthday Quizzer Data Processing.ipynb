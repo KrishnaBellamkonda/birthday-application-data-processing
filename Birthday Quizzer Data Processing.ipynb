{
 "cells": [
  {
   "cell_type": "markdown",
   "metadata": {},
   "source": [
    "### Birthday Quizzer Data Processing\n",
    "This notebook contains the development proccess involved in processing of data requied for 'Birthday Quizzer' application.This notebook achieve two mani objectives - \n",
    "* Conversion of Birthday Data into json format \n",
    "* Obtaining the names for whom a quiz should be prepared"
   ]
  },
  {
   "cell_type": "code",
   "execution_count": 1,
   "metadata": {},
   "outputs": [],
   "source": [
    "# Imports \n",
    "import os \n",
    "import json \n",
    "import pandas as pd\n",
    "import numpy as np"
   ]
  },
  {
   "cell_type": "code",
   "execution_count": 2,
   "metadata": {},
   "outputs": [],
   "source": [
    "# Entire DF Source\n",
    "source =  \"./dataset/birthday_data.csv\""
   ]
  },
  {
   "cell_type": "code",
   "execution_count": 19,
   "metadata": {},
   "outputs": [],
   "source": [
    "# Remember list \n",
    "remember_list_source = \"./dataset/remember_data.csv\""
   ]
  },
  {
   "cell_type": "code",
   "execution_count": 4,
   "metadata": {},
   "outputs": [],
   "source": [
    "# Read the file \n",
    "df = pd.read_csv(source)"
   ]
  },
  {
   "cell_type": "code",
   "execution_count": 5,
   "metadata": {},
   "outputs": [
    {
     "name": "stdout",
     "output_type": "stream",
     "text": [
      "<class 'pandas.core.frame.DataFrame'>\n",
      "RangeIndex: 40 entries, 0 to 39\n",
      "Data columns (total 2 columns):\n",
      " #   Column    Non-Null Count  Dtype \n",
      "---  ------    --------------  ----- \n",
      " 0   Name      40 non-null     object\n",
      " 1   Birthday  40 non-null     object\n",
      "dtypes: object(2)\n",
      "memory usage: 768.0+ bytes\n"
     ]
    }
   ],
   "source": [
    "df.info()"
   ]
  },
  {
   "cell_type": "code",
   "execution_count": 6,
   "metadata": {},
   "outputs": [],
   "source": [
    "# Birthday still not entered \n",
    "birthday_not_entered = df[\"Birthday\"].isna()\n",
    "df.loc[birthday_not_entered, \"Birthday\"] = \"\""
   ]
  },
  {
   "cell_type": "code",
   "execution_count": 7,
   "metadata": {},
   "outputs": [],
   "source": [
    "# Date parsing function \n",
    "def date_parse(date):\n",
    "    if (date != \"\"):\n",
    "        return date.replace(\"-\", \"/\")\n",
    "    else:\n",
    "        return \"\""
   ]
  },
  {
   "cell_type": "code",
   "execution_count": 8,
   "metadata": {},
   "outputs": [],
   "source": [
    "# Converting the dates into a regularized format \n",
    "df[\"Birthday\"] = df[\"Birthday\"].apply(date_parse)"
   ]
  },
  {
   "cell_type": "code",
   "execution_count": 9,
   "metadata": {},
   "outputs": [
    {
     "data": {
      "text/html": [
       "<div>\n",
       "<style scoped>\n",
       "    .dataframe tbody tr th:only-of-type {\n",
       "        vertical-align: middle;\n",
       "    }\n",
       "\n",
       "    .dataframe tbody tr th {\n",
       "        vertical-align: top;\n",
       "    }\n",
       "\n",
       "    .dataframe thead th {\n",
       "        text-align: right;\n",
       "    }\n",
       "</style>\n",
       "<table border=\"1\" class=\"dataframe\">\n",
       "  <thead>\n",
       "    <tr style=\"text-align: right;\">\n",
       "      <th></th>\n",
       "      <th>Name</th>\n",
       "      <th>Birthday</th>\n",
       "    </tr>\n",
       "  </thead>\n",
       "  <tbody>\n",
       "    <tr>\n",
       "      <th>0</th>\n",
       "      <td>Adrianna</td>\n",
       "      <td>8/20/1959</td>\n",
       "    </tr>\n",
       "    <tr>\n",
       "      <th>1</th>\n",
       "      <td>Victoria</td>\n",
       "      <td>2/23/1961</td>\n",
       "    </tr>\n",
       "    <tr>\n",
       "      <th>2</th>\n",
       "      <td>Stuart</td>\n",
       "      <td>1/26/1962</td>\n",
       "    </tr>\n",
       "    <tr>\n",
       "      <th>3</th>\n",
       "      <td>Nicholas</td>\n",
       "      <td>10/18/1966</td>\n",
       "    </tr>\n",
       "    <tr>\n",
       "      <th>4</th>\n",
       "      <td>Sydney</td>\n",
       "      <td>7/11/1967</td>\n",
       "    </tr>\n",
       "  </tbody>\n",
       "</table>\n",
       "</div>"
      ],
      "text/plain": [
       "       Name    Birthday\n",
       "0  Adrianna   8/20/1959\n",
       "1  Victoria   2/23/1961\n",
       "2    Stuart   1/26/1962\n",
       "3  Nicholas  10/18/1966\n",
       "4    Sydney   7/11/1967"
      ]
     },
     "execution_count": 9,
     "metadata": {},
     "output_type": "execute_result"
    }
   ],
   "source": [
    "# df \n",
    "df.head()"
   ]
  },
  {
   "cell_type": "markdown",
   "metadata": {},
   "source": [
    "## Converting the dataframe into JSON"
   ]
  },
  {
   "cell_type": "code",
   "execution_count": 15,
   "metadata": {},
   "outputs": [],
   "source": [
    "# Create a folder for JSON data\n",
    "folder_name = \"json_data\"\n",
    "folder_path = os.path.join(os.getcwd(), folder_name)\n",
    "if os.path.exists(folder_path):\n",
    "    print(\"Exists\")\n",
    "else:\n",
    "    os.mkdir(folder_path)"
   ]
  },
  {
   "cell_type": "code",
   "execution_count": 16,
   "metadata": {},
   "outputs": [],
   "source": [
    "# Convert the dataframe to a dict \n",
    "name_column = df[\"Name\"].values\n",
    "birthday_column = df[\"Birthday\"].values\n",
    "name_birthday_dict = { name:day for (name, day) in zip(name_column, birthday_column) }"
   ]
  },
  {
   "cell_type": "code",
   "execution_count": 17,
   "metadata": {},
   "outputs": [],
   "source": [
    "# JSON source \n",
    "df_json_source = os.path.join(folder_path, \"birthday_data.json\")\n",
    "with open(df_json_source, \"w\") as fp:\n",
    "    json.dump(name_birthday_dict, fp)"
   ]
  },
  {
   "cell_type": "markdown",
   "metadata": {},
   "source": [
    "### Quiz list :)"
   ]
  },
  {
   "cell_type": "code",
   "execution_count": 20,
   "metadata": {},
   "outputs": [],
   "source": [
    "# List \n",
    "remember_list = pd.read_csv(remember_list_source)\n",
    "names = remember_list[\"Name\"].values"
   ]
  },
  {
   "cell_type": "code",
   "execution_count": 21,
   "metadata": {},
   "outputs": [],
   "source": [
    "# Set Index df \n",
    "df = df.set_index(\"Name\")"
   ]
  },
  {
   "cell_type": "code",
   "execution_count": 22,
   "metadata": {},
   "outputs": [],
   "source": [
    "# Get the Quiz list \n",
    "df_remember_list = df.loc[names, [\"Birthday\"]]"
   ]
  },
  {
   "cell_type": "code",
   "execution_count": 23,
   "metadata": {},
   "outputs": [
    {
     "data": {
      "text/plain": [
       "{'Chelsea': '1/29/2002',\n",
       " 'David': '2/10/2004',\n",
       " 'Deanna': '3/9/2006',\n",
       " 'Aiden': '5/1/2006',\n",
       " 'Oscar': '2/10/2009',\n",
       " 'Victoria': '1/28/1972',\n",
       " 'Kristian': '1/11/2021',\n",
       " 'Owen': '6/17/1969',\n",
       " 'Tony': '12/1/1970',\n",
       " 'Alberta': '12/6/1974',\n",
       " 'Isabella': '7/23/1976',\n",
       " 'Maria': '11/17/1986',\n",
       " 'Lydia': '4/12/1996',\n",
       " 'Harold': '5/12/2000',\n",
       " 'Briony': '3/14/2008',\n",
       " 'Alina': '7/26/2006',\n",
       " 'Alford': '8/25/2011',\n",
       " 'Andrew': '9/26/2019',\n",
       " 'Sofia': '11/26/2021',\n",
       " 'Emily': '12/10/2021'}"
      ]
     },
     "execution_count": 23,
     "metadata": {},
     "output_type": "execute_result"
    }
   ],
   "source": [
    "# Converting to a JSON \n",
    "remember_list_dict = { name: day for name, day in zip(df_remember_list.index, df_remember_list[\"Birthday\"]) }\n",
    "remember_list_dict"
   ]
  },
  {
   "cell_type": "code",
   "execution_count": 26,
   "metadata": {},
   "outputs": [],
   "source": [
    "# Save as JSON\n",
    "remember_list_path = os.path.join(folder_path, \"remember_data.json\")\n",
    "with open(remember_list_path, \"w\") as fp:\n",
    "    json.dump(remember_list_dict, fp)"
   ]
  },
  {
   "cell_type": "markdown",
   "metadata": {},
   "source": [
    "This can be converted into python scripts"
   ]
  },
  {
   "cell_type": "code",
   "execution_count": null,
   "metadata": {},
   "outputs": [],
   "source": []
  }
 ],
 "metadata": {
  "kernelspec": {
   "display_name": "Python 3",
   "language": "python",
   "name": "python3"
  },
  "language_info": {
   "codemirror_mode": {
    "name": "ipython",
    "version": 3
   },
   "file_extension": ".py",
   "mimetype": "text/x-python",
   "name": "python",
   "nbconvert_exporter": "python",
   "pygments_lexer": "ipython3",
   "version": "3.7.6"
  }
 },
 "nbformat": 4,
 "nbformat_minor": 4
}
